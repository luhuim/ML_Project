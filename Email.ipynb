{
  "nbformat": 4,
  "nbformat_minor": 0,
  "metadata": {
    "colab": {
      "provenance": [],
      "mount_file_id": "1hv3p9Q-kovfdZ4cI6RaraPKtWr9cyW8E",
      "authorship_tag": "ABX9TyMi4gumlggbPQ2HU/AfkL2X",
      "include_colab_link": true
    },
    "kernelspec": {
      "name": "python3",
      "display_name": "Python 3"
    },
    "language_info": {
      "name": "python"
    }
  },
  "cells": [
    {
      "cell_type": "markdown",
      "metadata": {
        "id": "view-in-github",
        "colab_type": "text"
      },
      "source": [
        "<a href=\"https://colab.research.google.com/github/luhuim/ML_Project/blob/main/Email.ipynb\" target=\"_parent\"><img src=\"https://colab.research.google.com/assets/colab-badge.svg\" alt=\"Open In Colab\"/></a>"
      ]
    },
    {
      "cell_type": "markdown",
      "source": [
        "**Title**: Classify an email into eight classes based on the metadata extracted from the emails.  \n",
        "**Date**: 2022 July 9th   \n",
        "**Author**: Huimin Lu     \n",
        "**Description**: We often face the problem of searching meaningful emails from thousands of promotional emails. This challenge focuses on creating a multi-class classifier that can classify an email into eight classes based on the metadata extracted from the email.\n",
        "In this script, I use decision tree (a kind of supervised learning) to construct model and make prediction.   \n",
        "**Evaluation**: The evaluation metric for this competition is F1-Score.  \n",
        "**Model:**Decision tree  \n",
        "**Procedure**：  \n",
        "1, discover the training dataset.    \n",
        "2, choose the column we want to use to construct model.   \n",
        "3, split training data into training and test data.  \n",
        "4, construct model, training this model with training data.    \n",
        "5, make prediction using test data, and get F1-score.  \n",
        "6, using this model to predict test dataset.\n",
        "\n",
        "\n"
      ],
      "metadata": {
        "id": "7NbtktKnuyzV"
      }
    },
    {
      "cell_type": "code",
      "execution_count": null,
      "metadata": {
        "id": "uLJ0WW9lUMQT"
      },
      "outputs": [],
      "source": [
        "# Import package and training dataset\n",
        "import pandas as pd\n",
        "from sklearn.model_selection import train_test_split\n",
        "from sklearn.tree import DecisionTreeClassifier\n",
        "from sklearn.metrics import accuracy_score\n",
        "import matplotlib.pyplot as plt\n",
        "import seaborn as sns\n",
        "import warnings\n",
        "warnings.simplefilter(\"ignore\")\n",
        "from sklearn.datasets import load_iris\n",
        "from sklearn import tree\n",
        "import numpy as np\n",
        "\n",
        "train_df = pd.read_csv('/content/drive/MyDrive/Colab_Notebooks/Challenge/train.csv',\n",
        "                       usecols=['org','tld','mail_type','label'], dtype=\"category\")\n",
        "train_df = train_df.dropna() #drop invalid data cell, \"NaN\""
      ]
    },
    {
      "cell_type": "code",
      "source": [
        "#looking at distribution of label\n",
        "train_df['label'].value_counts()\n",
        "plt.figure(figsize=(5,10));\n",
        "sns.countplot(train_df['label']);\n"
      ],
      "metadata": {
        "colab": {
          "base_uri": "https://localhost:8080/",
          "height": 606
        },
        "id": "sLcL9-Hbt3Fo",
        "outputId": "34624d49-49d3-4acf-c883-c3c7c17034e8"
      },
      "execution_count": null,
      "outputs": [
        {
          "output_type": "display_data",
          "data": {
            "text/plain": [
              "<Figure size 360x720 with 1 Axes>"
            ],
            "image/png": "[encoded data removed]"
          },
          "metadata": {
            "needs_background": "light"
          }
        }
      ]
    },
    {
      "cell_type": "markdown",
      "source": [
        "In our example file, I found that even if only use the column \"mail_type\" it can still get F1-score: 0.45. So I try to use all categorical variable to cnstruct model.  \n",
        "And decision tree only require numerical variable, so we use `OneHotEncoder()` to transform categgorical variable into numeric variable.    "
      ],
      "metadata": {
        "id": "mx53sQ7VupqI"
      }
    },
    {
      "cell_type": "code",
      "source": [
        "from sklearn.model_selection import train_test_split\n",
        "from sklearn.preprocessing import OneHotEncoder\n",
        "from sklearn.compose import make_column_transformer\n",
        "# \"X\" include all columns we want to use\n",
        "X = train_df[['org','tld','mail_type']]\n",
        "#print(X)\n",
        "y=train_df['label']# \"y\" is label\n",
        "#print(y)\n",
        "\n",
        "#Splitting data into training and testing data\n",
        "X_train,X_test,y_train,y_test=train_test_split(X,y,test_size=0.7)\n",
        "#print(X_train,X_test,y_train,y_test)\n",
        "\n",
        "## Do one hot encoding of categorical feature\n",
        "feat_enc = OneHotEncoder()\n",
        "feat_enc.fit(np.vstack([X_train,X_test]))\n",
        "train_x_featurized = feat_enc.transform(X_train) #This is converted \"X_train\"\n",
        "test_x_featurized = feat_enc.transform(X_test) ##This is converted \"X_train\"\n",
        "\n",
        "# Creating Decision Tree Classifier\n",
        "from sklearn.tree import DecisionTreeClassifier\n",
        "clf=DecisionTreeClassifier(criterion=\"gini\")\n",
        "clf.fit(train_x_featurized,y_train) #training the model\n",
        "\n",
        "# Making Predictions with Our Model, predictiong \"X_test\"\n",
        "predictions = clf.predict(test_x_featurized) # predicted \"y\" is \"predictions\"\n",
        "\n"
      ],
      "metadata": {
        "id": "fee6e4z3URq-"
      },
      "execution_count": null,
      "outputs": []
    },
    {
      "cell_type": "markdown",
      "source": [
        "Calculate F1-Score of this model."
      ],
      "metadata": {
        "id": "BgLiLf_q19ZX"
      }
    },
    {
      "cell_type": "code",
      "source": [
        "import numpy as np\n",
        "from sklearn.metrics import f1_score\n",
        "#calculate F1 score\n",
        "f1_score(y_test, predictions, average='weighted')"
      ],
      "metadata": {
        "colab": {
          "base_uri": "https://localhost:8080/"
        },
        "id": "NvxqaqsGUXDF",
        "outputId": "edc37f44-7d70-46c3-e549-96ae8dc20749"
      },
      "execution_count": null,
      "outputs": [
        {
          "output_type": "execute_result",
          "data": {
            "text/plain": [
              "0.5429395497633135"
            ]
          },
          "metadata": {},
          "execution_count": 4
        }
      ]
    },
    {
      "cell_type": "markdown",
      "source": [
        "Now we use this model to predict test dataset.\n",
        "And finally, I got a score 0.56 through Kaggle. And this is the highest score I can get using decision tree."
      ],
      "metadata": {
        "id": "2Vt_YZXF2I7a"
      }
    },
    {
      "cell_type": "code",
      "source": [
        "# Predict test.csv\n",
        "#import package and dataset\n",
        "import pandas as pd\n",
        "import numpy as np\n",
        "from sklearn.preprocessing import OneHotEncoder\n",
        "from sklearn.neighbors import KNeighborsClassifier\n",
        "from sklearn.metrics import accuracy_score\n",
        "from sklearn.tree import DecisionTreeClassifier\n",
        "## Read csvs\n",
        "train_df = pd.read_csv('/content/drive/MyDrive/Colab_Notebooks/Challenge/train.csv',\n",
        "                       usecols=['org','tld','mail_type','label'], dtype=\"category\")\n",
        "test_df = pd.read_csv('/content/drive/MyDrive/Colab_Notebooks/Challenge/test.csv',\n",
        "                       usecols=['org','tld','mail_type'], dtype=\"category\")\n",
        "\n",
        "## Filtering column \"mail_type\"\n",
        "train_x= train_df[['org','tld','mail_type']]\n",
        "#train_x = train_x.fillna(value='None')#fill \"Na\" with \"none\"\n",
        "train_y = train_df[['label']] #extract column \"label\"\n",
        "test_x = test_df[['org','tld','mail_type']]\n",
        "\n",
        "## Do one hot encoding of categorical feature\n",
        "feat_enc = OneHotEncoder()\n",
        "feat_enc.fit(np.vstack([train_x, test_x]))\n",
        "train_x_featurized = feat_enc.transform(train_x)\n",
        "test_x_featurized = feat_enc.transform(test_x)\n",
        "\n",
        "# Creating Our First Decision Tree Classifier\n",
        "clf=DecisionTreeClassifier(criterion=\"gini\")\n",
        "clf.fit(train_x_featurized,train_y) #training the model\n",
        "# Making Predictions with Our Model, predictiong \"X_test\"\n",
        "pred_y = clf.predict(test_x_featurized) # predicted \"y\" is \"predictions\"\n",
        "#print(len(pred_y))\n",
        "## Save results to submission file\n",
        "pred_df = pd.DataFrame(pred_y, columns=['label'])\n",
        "pred_df.to_csv(\"knn_sample_submission.csv\", index=True, index_label='Id')\n"
      ],
      "metadata": {
        "id": "vgvJLt9lUbU2"
      },
      "execution_count": null,
      "outputs": []
    }
  ]
}